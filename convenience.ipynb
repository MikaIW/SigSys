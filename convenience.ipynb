{
 "metadata": {
  "name": "",
  "signature": "sha256:6c462ca41e9bda8ea1200519c3601abf868932ef9239ca45864a5b2463a04973"
 },
 "nbformat": 3,
 "nbformat_minor": 0,
 "worksheets": [
  {
   "cells": [
    {
     "cell_type": "code",
     "collapsed": false,
     "input": [
      "'''\n",
      "convenience functions\n",
      "march 2105\n",
      "'''\n",
      "\n",
      "%matplotlib inline\n",
      "from __future__ import print_function\n",
      "import numpy as np\n",
      "import matplotlib.pyplot as plt\n",
      "\n",
      "# numpy output options\n",
      "np.set_printoptions(precision=2,suppress=True)\n",
      "\n",
      "pi=np.pi\n",
      "j=1j"
     ],
     "language": "python",
     "metadata": {},
     "outputs": [],
     "prompt_number": 2
    },
    {
     "cell_type": "code",
     "collapsed": false,
     "input": [
      "def myplotstyle():\n",
      "    'customize plot style'\n",
      "    plt.margins(0.1)\n",
      "    plt.axhline(color='k')\n",
      "    plt.axvline(color='k')\n",
      "    plt.grid()"
     ],
     "language": "python",
     "metadata": {},
     "outputs": [],
     "prompt_number": 3
    },
    {
     "cell_type": "code",
     "collapsed": false,
     "input": [
      "def complexplot(*args,**kwargs):\n",
      "    'plot real and imaginary parts of complex sequences'\n",
      "    plt.subplot(2,1,1)\n",
      "    cleaned=clean(np.real(args[1]))\n",
      "    plt.plot(args[0],cleaned,args[2],**kwargs)\n",
      "    plt.ylabel('real')\n",
      "    myplotstyle()\n",
      "    plt.subplot(2,1,2)\n",
      "    cleaned=clean(np.imag(args[1]))\n",
      "    plt.plot(args[0],cleaned,args[2],**kwargs)\n",
      "    plt.ylabel('imaginary')\n",
      "    myplotstyle()\n",
      "    plt.suptitle(args[3])\n",
      "    plt.xlabel(args[4])"
     ],
     "language": "python",
     "metadata": {},
     "outputs": [],
     "prompt_number": 4
    },
    {
     "cell_type": "code",
     "collapsed": false,
     "input": [
      "def complexplot2(*args,**kwargs):\n",
      "    'plot magnitude and phase of complex sequences'\n",
      "    plt.subplot(2,1,1)\n",
      "    cleaned=clean(np.abs(args[1]))\n",
      "    plt.plot(args[0],cleaned,args[2],**kwargs)\n",
      "    plt.ylabel('magnitude')\n",
      "    myplotstyle()\n",
      "    plt.subplot(2,1,2)\n",
      "    cleaned=clean(np.angle(args[1]))\n",
      "    plt.plot(args[0],cleaned/pi,args[2],**kwargs)\n",
      "    plt.ylabel('phase/$\\pi$')\n",
      "    myplotstyle()\n",
      "    plt.suptitle(args[3])\n",
      "    plt.xlabel(args[4])"
     ],
     "language": "python",
     "metadata": {},
     "outputs": [],
     "prompt_number": 5
    },
    {
     "cell_type": "code",
     "collapsed": false,
     "input": [
      "def clean(x):\n",
      "    tol=1e-10\n",
      "    y=np.copy(x)\n",
      "    y[abs(y) < tol] = 0.0\n",
      "    return y"
     ],
     "language": "python",
     "metadata": {},
     "outputs": [],
     "prompt_number": 6
    },
    {
     "cell_type": "code",
     "collapsed": false,
     "input": [],
     "language": "python",
     "metadata": {},
     "outputs": [],
     "prompt_number": 6
    }
   ],
   "metadata": {}
  }
 ]
}